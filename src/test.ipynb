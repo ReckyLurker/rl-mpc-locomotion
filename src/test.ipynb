{
 "cells": [
  {
   "cell_type": "code",
   "execution_count": 18,
   "metadata": {},
   "outputs": [
    {
     "name": "stdout",
     "output_type": "stream",
     "text": [
      "[[1 2 3]\n",
      " [4 5 6]\n",
      " [7 8 9]\n",
      " [1 2 3]\n",
      " [4 5 6]\n",
      " [7 8 9]\n",
      " [1 2 3]\n",
      " [4 5 6]\n",
      " [7 8 9]]\n"
     ]
    }
   ],
   "source": [
    "import numpy as np\n",
    "a = np.array([[1,2,3],[4,5,6],[7,8,9]])\n",
    "# a[0,1]\n",
    "p = [0.0 for _ in range(3)]\n",
    "print(np.tile(a,(3,1)))"
   ]
  },
  {
   "cell_type": "code",
   "execution_count": 4,
   "metadata": {},
   "outputs": [
    {
     "name": "stdout",
     "output_type": "stream",
     "text": [
      "J\n",
      " [[ 0.          0.40399998  0.19499999]\n",
      " [ 0.40399998 -0.         -0.        ]\n",
      " [-0.066       0.          0.        ]]\n",
      "p\n",
      " [[ 0.        ]\n",
      " [-0.066     ]\n",
      " [-0.40399998]]\n"
     ]
    }
   ],
   "source": [
    "import numpy as np\n",
    "from quadruped import Quadruped\n",
    "from kinematics import computeLegJacobianAndPosition\n",
    "\n",
    "quad = Quadruped()\n",
    "q = np.zeros((3,1), dtype=np.float32)\n",
    "J, p = computeLegJacobianAndPosition(quad, q, 2)\n",
    "\n",
    "print(\"J\\n\",J)\n",
    "\n",
    "print(\"p\\n\",p)"
   ]
  },
  {
   "cell_type": "code",
   "execution_count": 1,
   "metadata": {},
   "outputs": [
    {
     "name": "stdout",
     "output_type": "stream",
     "text": [
      "[[1. 1. 1. ... 1. 1. 1.]\n",
      " [1. 1. 1. ... 1. 1. 1.]\n",
      " [1. 1. 1. ... 1. 1. 1.]\n",
      " ...\n",
      " [1. 1. 1. ... 1. 1. 1.]\n",
      " [1. 1. 1. ... 1. 1. 1.]\n",
      " [1. 1. 1. ... 1. 1. 1.]]\n"
     ]
    }
   ],
   "source": [
    "import numpy as np\n",
    "a = np.zeros((13*10,13))\n",
    "print(np.exp(a))"
   ]
  }
 ],
 "metadata": {
  "interpreter": {
   "hash": "477f429111f5082c327f2da949347f5c5f0d7f24f20a8925447777d056c162e2"
  },
  "kernelspec": {
   "display_name": "Python 3.7.10 64-bit ('rlgpu': conda)",
   "language": "python",
   "name": "python3"
  },
  "language_info": {
   "codemirror_mode": {
    "name": "ipython",
    "version": 3
   },
   "file_extension": ".py",
   "mimetype": "text/x-python",
   "name": "python",
   "nbconvert_exporter": "python",
   "pygments_lexer": "ipython3",
   "version": "3.7.10"
  },
  "orig_nbformat": 4
 },
 "nbformat": 4,
 "nbformat_minor": 2
}
