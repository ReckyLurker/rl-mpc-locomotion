{
 "cells": [
  {
   "cell_type": "code",
   "execution_count": 18,
   "metadata": {},
   "outputs": [
    {
     "name": "stdout",
     "output_type": "stream",
     "text": [
      "[[1 2 3]\n",
      " [4 5 6]\n",
      " [7 8 9]\n",
      " [1 2 3]\n",
      " [4 5 6]\n",
      " [7 8 9]\n",
      " [1 2 3]\n",
      " [4 5 6]\n",
      " [7 8 9]]\n"
     ]
    }
   ],
   "source": [
    "import numpy as np\n",
    "a = np.array([[1,2,3],[4,5,6],[7,8,9]])\n",
    "# a[0,1]\n",
    "p = [0.0 for _ in range(3)]\n",
    "print(np.tile(a,(3,1)))"
   ]
  },
  {
   "cell_type": "code",
   "execution_count": 1,
   "metadata": {},
   "outputs": [
    {
     "name": "stdout",
     "output_type": "stream",
     "text": [
      "[[1. 1. 1. ... 1. 1. 1.]\n",
      " [1. 1. 1. ... 1. 1. 1.]\n",
      " [1. 1. 1. ... 1. 1. 1.]\n",
      " ...\n",
      " [1. 1. 1. ... 1. 1. 1.]\n",
      " [1. 1. 1. ... 1. 1. 1.]\n",
      " [1. 1. 1. ... 1. 1. 1.]]\n",
      "[0. 0. 0. 0. 0. 0. 0. 0. 0. 0. 0. 0.]\n"
     ]
    }
   ],
   "source": [
    "import numpy as np\n",
    "a = np.zeros((13*10,13))\n",
    "print(np.exp(a))\n",
    "print(np.zeros(12))"
   ]
  },
  {
   "cell_type": "code",
   "execution_count": 1,
   "metadata": {},
   "outputs": [
    {
     "data": {
      "text/plain": [
       "array([[0., 0., 0.],\n",
       "       [0., 0., 0.],\n",
       "       [0., 0., 0.]])"
      ]
     },
     "execution_count": 1,
     "metadata": {},
     "output_type": "execute_result"
    }
   ],
   "source": [
    "import numpy as np\n",
    "\n",
    "def test(hhhh:np.ndarray):\n",
    "    return hhhh\n",
    "\n",
    "test(np.zeros((3,3)))"
   ]
  },
  {
   "cell_type": "code",
   "execution_count": 2,
   "metadata": {},
   "outputs": [
    {
     "name": "stdout",
     "output_type": "stream",
     "text": [
      "0.25\n"
     ]
    }
   ],
   "source": [
    "x = np.min([np.max([10, -0.25]), 0.25])\n",
    "print(x)"
   ]
  },
  {
   "cell_type": "code",
   "execution_count": 42,
   "metadata": {},
   "outputs": [
    {
     "name": "stdout",
     "output_type": "stream",
     "text": [
      "0.0\n",
      "4\n"
     ]
    }
   ],
   "source": [
    "import numpy as np\n",
    "from time import time\n",
    "a = np.zeros((3,1), dtype=np.float32)\n",
    "b = np.array([3.0,4,5]).reshape((3,1))\n",
    "\n",
    "t = time()\n",
    "a = b.copy()\n",
    "# np.copyto(a, b, casting=\"same_kind\")\n",
    "\n",
    "print(time()-t)\n",
    "a[0] = 0\n",
    "print(b)"
   ]
  },
  {
   "cell_type": "code",
   "execution_count": 39,
   "metadata": {},
   "outputs": [
    {
     "name": "stdout",
     "output_type": "stream",
     "text": [
      "[1, 2, 3]\n"
     ]
    }
   ],
   "source": [
    "a = [0 for _ in range(4)]\n",
    "b = [1, 2, 3]\n",
    "a[:] = b\n",
    "\n",
    "print(a)"
   ]
  },
  {
   "cell_type": "code",
   "execution_count": 2,
   "metadata": {},
   "outputs": [
    {
     "name": "stdout",
     "output_type": "stream",
     "text": [
      "[ 1.00e+00]\n",
      "[ 2.00e+00]\n",
      "[ 3.00e+00]\n",
      "\n"
     ]
    }
   ],
   "source": [
    "from cvxopt import matrix\n",
    "import numpy as np\n",
    "q = np.array([1,2,3.0], dtype=np.float64).reshape(3,1)\n",
    "print(matrix(q))"
   ]
  },
  {
   "cell_type": "code",
   "execution_count": 24,
   "metadata": {},
   "outputs": [
    {
     "name": "stdout",
     "output_type": "stream",
     "text": [
      "140126302247264\n",
      "140126801388000\n",
      "140126302247264\n",
      "140126801388000\n",
      "True\n"
     ]
    }
   ],
   "source": [
    "list1 = [3, 4, 5, 8]\n",
    "list2 = [5, 6, 7]\n",
    "\n",
    "print(id(list1))\n",
    "print(id(list2))\n",
    "\n",
    "list1[:] = list2\n",
    "# list1 = list2[:]\n",
    "\n",
    "\n",
    "list1[0] = 0\n",
    "print(id(list1))\n",
    "print(id(list2))\n",
    "print(list1[1] is list2[1])"
   ]
  },
  {
   "cell_type": "code",
   "execution_count": 12,
   "metadata": {},
   "outputs": [
    {
     "name": "stdout",
     "output_type": "stream",
     "text": [
      "[ 0. -1. -1.  0.] [0. 0. 0. 0.]\n",
      "nan\n",
      "-inf\n",
      "-inf\n",
      "nan\n"
     ]
    },
    {
     "name": "stderr",
     "output_type": "stream",
     "text": [
      "/home/silvery/anaconda3/envs/rlmpc/lib/python3.7/site-packages/ipykernel_launcher.py:6: RuntimeWarning: invalid value encountered in float_scalars\n",
      "  \n",
      "/home/silvery/anaconda3/envs/rlmpc/lib/python3.7/site-packages/ipykernel_launcher.py:6: RuntimeWarning: divide by zero encountered in float_scalars\n",
      "  \n"
     ]
    }
   ],
   "source": [
    "import numpy as np\n",
    "a = np.array([0,-1,-1,0], dtype=np.float32)\n",
    "b = np.array([0,0,0,0], dtype=np.float32)\n",
    "print(a,b)\n",
    "for m,n in zip(a,b):\n",
    "    print(m/n)"
   ]
  },
  {
   "cell_type": "code",
   "execution_count": 1,
   "metadata": {},
   "outputs": [
    {
     "data": {
      "text/plain": [
       "array([[0.],\n",
       "       [0.],\n",
       "       [0.]])"
      ]
     },
     "execution_count": 1,
     "metadata": {},
     "output_type": "execute_result"
    }
   ],
   "source": [
    "import numpy as np\n",
    "a = np.zeros((4,3,1))\n",
    "\n",
    "a[0]"
   ]
  },
  {
   "cell_type": "code",
   "execution_count": 18,
   "metadata": {},
   "outputs": [],
   "source": [
    "import torch\n",
    "import numpy as np\n",
    "checkpoint = torch.load(\"../RL_Environment/runs/Aliengo/nn/Aliengo.pth\")\n"
   ]
  },
  {
   "cell_type": "code",
   "execution_count": 17,
   "metadata": {},
   "outputs": [
    {
     "name": "stdout",
     "output_type": "stream",
     "text": [
      "running_mean_std\n",
      "reward_mean_std\n",
      "scaler\n",
      "model\n",
      "epoch\n",
      "optimizer\n",
      "frame\n",
      "last_mean_rewards\n",
      "env_state\n",
      "\n",
      "a2c_network.sigma\n",
      "a2c_network.actor_mlp.0.weight\n",
      "a2c_network.actor_mlp.0.bias\n",
      "a2c_network.actor_mlp.2.weight\n",
      "a2c_network.actor_mlp.2.bias\n",
      "a2c_network.actor_mlp.4.weight\n",
      "a2c_network.actor_mlp.4.bias\n",
      "a2c_network.value.weight\n",
      "a2c_network.value.bias\n",
      "a2c_network.mu.weight\n",
      "a2c_network.mu.bias\n"
     ]
    }
   ],
   "source": [
    "model = checkpoint['model']\n",
    "# print(model)\n",
    "for key in checkpoint.keys():\n",
    "    print(key)\n",
    "print()\n",
    "for key in model.keys():\n",
    "    print(key)\n",
    "# checkpoint[\"model\"]"
   ]
  },
  {
   "cell_type": "code",
   "execution_count": 33,
   "metadata": {},
   "outputs": [
    {
     "name": "stdout",
     "output_type": "stream",
     "text": [
      "True\n"
     ]
    }
   ],
   "source": [
    "l1 = [1, 1, 3.0, 4, 1]\n",
    "print(all(val>=0 for val in l1))"
   ]
  }
 ],
 "metadata": {
  "interpreter": {
   "hash": "477f429111f5082c327f2da949347f5c5f0d7f24f20a8925447777d056c162e2"
  },
  "kernelspec": {
   "display_name": "Python 3.7.10 64-bit ('rlgpu': conda)",
   "language": "python",
   "name": "python3"
  },
  "language_info": {
   "codemirror_mode": {
    "name": "ipython",
    "version": 3
   },
   "file_extension": ".py",
   "mimetype": "text/x-python",
   "name": "python",
   "nbconvert_exporter": "python",
   "pygments_lexer": "ipython3",
   "version": "3.7.12"
  },
  "orig_nbformat": 4
 },
 "nbformat": 4,
 "nbformat_minor": 2
}
