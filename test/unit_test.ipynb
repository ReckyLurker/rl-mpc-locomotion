{
 "cells": [
  {
   "cell_type": "code",
   "execution_count": 1,
   "metadata": {},
   "outputs": [
    {
     "name": "stdout",
     "output_type": "stream",
     "text": [
      "[[1 2 3]\n",
      " [4 5 6]\n",
      " [7 8 9]\n",
      " [1 2 3]\n",
      " [4 5 6]\n",
      " [7 8 9]\n",
      " [1 2 3]\n",
      " [4 5 6]\n",
      " [7 8 9]]\n"
     ]
    }
   ],
   "source": [
    "import numpy as np\n",
    "a = np.array([[1,2,3],[4,5,6],[7,8,9]])\n",
    "# a[0,1]\n",
    "p = [0.0 for _ in range(3)]\n",
    "print(np.tile(a,(3,1)))"
   ]
  },
  {
   "cell_type": "code",
   "execution_count": 2,
   "metadata": {},
   "outputs": [
    {
     "name": "stdout",
     "output_type": "stream",
     "text": [
      "[[1. 1. 1. ... 1. 1. 1.]\n",
      " [1. 1. 1. ... 1. 1. 1.]\n",
      " [1. 1. 1. ... 1. 1. 1.]\n",
      " ...\n",
      " [1. 1. 1. ... 1. 1. 1.]\n",
      " [1. 1. 1. ... 1. 1. 1.]\n",
      " [1. 1. 1. ... 1. 1. 1.]]\n",
      "[0. 0. 0. 0. 0. 0. 0. 0. 0. 0. 0. 0.]\n"
     ]
    }
   ],
   "source": [
    "import numpy as np\n",
    "a = np.zeros((13*10,13))\n",
    "print(np.exp(a))\n",
    "print(np.zeros(12))"
   ]
  },
  {
   "cell_type": "code",
   "execution_count": 3,
   "metadata": {},
   "outputs": [
    {
     "data": {
      "text/plain": [
       "array([[0., 0., 0.],\n",
       "       [0., 0., 0.],\n",
       "       [0., 0., 0.]])"
      ]
     },
     "execution_count": 3,
     "metadata": {},
     "output_type": "execute_result"
    }
   ],
   "source": [
    "import numpy as np\n",
    "\n",
    "def test(hhhh:np.ndarray):\n",
    "    return hhhh\n",
    "\n",
    "test(np.zeros((3,3)))"
   ]
  },
  {
   "cell_type": "code",
   "execution_count": 4,
   "metadata": {},
   "outputs": [
    {
     "name": "stdout",
     "output_type": "stream",
     "text": [
      "0.25\n"
     ]
    }
   ],
   "source": [
    "x = np.min([np.max([10, -0.25]), 0.25])\n",
    "print(x)"
   ]
  },
  {
   "cell_type": "code",
   "execution_count": 5,
   "metadata": {},
   "outputs": [
    {
     "name": "stdout",
     "output_type": "stream",
     "text": [
      "4.7206878662109375e-05\n",
      "[[3.]\n",
      " [4.]\n",
      " [5.]]\n"
     ]
    }
   ],
   "source": [
    "import numpy as np\n",
    "from time import time\n",
    "a = np.zeros((3,1), dtype=np.float32)\n",
    "b = np.array([3.0,4,5]).reshape((3,1))\n",
    "\n",
    "t = time()\n",
    "a = b.copy()\n",
    "# np.copyto(a, b, casting=\"same_kind\")\n",
    "\n",
    "print(time()-t)\n",
    "a[0] = 0\n",
    "print(b)"
   ]
  },
  {
   "cell_type": "code",
   "execution_count": 6,
   "metadata": {},
   "outputs": [
    {
     "name": "stdout",
     "output_type": "stream",
     "text": [
      "[1, 2, 3]\n"
     ]
    }
   ],
   "source": [
    "a = [0 for _ in range(4)]\n",
    "b = [1, 2, 3]\n",
    "a[:] = b\n",
    "\n",
    "print(a)"
   ]
  },
  {
   "cell_type": "code",
   "execution_count": 7,
   "metadata": {},
   "outputs": [
    {
     "name": "stdout",
     "output_type": "stream",
     "text": [
      "[ 1.00e+00]\n",
      "[ 2.00e+00]\n",
      "[ 3.00e+00]\n",
      "\n"
     ]
    }
   ],
   "source": [
    "from cvxopt import matrix\n",
    "import numpy as np\n",
    "q = np.array([1,2,3.0], dtype=np.float64).reshape(3,1)\n",
    "print(matrix(q))"
   ]
  },
  {
   "cell_type": "code",
   "execution_count": 8,
   "metadata": {},
   "outputs": [
    {
     "name": "stdout",
     "output_type": "stream",
     "text": [
      "139883324615328\n",
      "139883324614288\n",
      "139883324615328\n",
      "139883324614288\n",
      "True\n"
     ]
    }
   ],
   "source": [
    "list1 = [3, 4, 5, 8]\n",
    "list2 = [5, 6, 7]\n",
    "\n",
    "print(id(list1))\n",
    "print(id(list2))\n",
    "\n",
    "list1[:] = list2\n",
    "# list1 = list2[:]\n",
    "\n",
    "\n",
    "list1[0] = 0\n",
    "print(id(list1))\n",
    "print(id(list2))\n",
    "print(list1[1] is list2[1])"
   ]
  },
  {
   "cell_type": "code",
   "execution_count": 9,
   "metadata": {},
   "outputs": [
    {
     "name": "stdout",
     "output_type": "stream",
     "text": [
      "[ 0. -1. -1.  0.] [0. 0. 0. 0.]\n",
      "nan\n",
      "-inf\n",
      "-inf\n",
      "nan\n"
     ]
    },
    {
     "name": "stderr",
     "output_type": "stream",
     "text": [
      "/home/silvery/anaconda3/envs/rlmpc/lib/python3.7/site-packages/ipykernel_launcher.py:6: RuntimeWarning: invalid value encountered in float_scalars\n",
      "  \n",
      "/home/silvery/anaconda3/envs/rlmpc/lib/python3.7/site-packages/ipykernel_launcher.py:6: RuntimeWarning: divide by zero encountered in float_scalars\n",
      "  \n"
     ]
    }
   ],
   "source": [
    "import numpy as np\n",
    "a = np.array([0,-1,-1,0], dtype=np.float32)\n",
    "b = np.array([0,0,0,0], dtype=np.float32)\n",
    "print(a,b)\n",
    "for m,n in zip(a,b):\n",
    "    print(m/n)"
   ]
  },
  {
   "cell_type": "code",
   "execution_count": 10,
   "metadata": {},
   "outputs": [
    {
     "data": {
      "text/plain": [
       "array([[0.],\n",
       "       [0.],\n",
       "       [0.]])"
      ]
     },
     "execution_count": 10,
     "metadata": {},
     "output_type": "execute_result"
    }
   ],
   "source": [
    "import numpy as np\n",
    "a = np.zeros((4,3,1))\n",
    "\n",
    "a[0]"
   ]
  },
  {
   "cell_type": "code",
   "execution_count": 11,
   "metadata": {},
   "outputs": [],
   "source": [
    "import torch\n",
    "import numpy as np\n",
    "checkpoint = torch.load(\"../RL_Environment/runs/Aliengo/nn/Aliengo.pth\")\n"
   ]
  },
  {
   "cell_type": "code",
   "execution_count": null,
   "metadata": {},
   "outputs": [],
   "source": [
    "model = checkpoint['model']\n",
    "# print(model)\n",
    "for key in checkpoint.keys():\n",
    "    print(key)\n",
    "print()\n",
    "for key in model.keys():\n",
    "    print(key)\n",
    "# checkpoint[\"model\"]"
   ]
  },
  {
   "cell_type": "code",
   "execution_count": 13,
   "metadata": {},
   "outputs": [
    {
     "name": "stdout",
     "output_type": "stream",
     "text": [
      "True\n"
     ]
    }
   ],
   "source": [
    "l1 = [1, 1, 3.0, 4, 1]\n",
    "print(all(val>=0 for val in l1))"
   ]
  },
  {
   "cell_type": "code",
   "execution_count": 20,
   "metadata": {},
   "outputs": [
    {
     "name": "stdout",
     "output_type": "stream",
     "text": [
      "[[1 2 3]\n",
      " [4 5 6]\n",
      " [7 8 9]]\n",
      "[2. 2. 2.]\n",
      "[[2.]\n",
      " [2.]\n",
      " [2.]]\n",
      "[12. 30. 48.]\n",
      "[[12.]\n",
      " [30.]\n",
      " [48.]]\n"
     ]
    }
   ],
   "source": [
    "import numpy as np\n",
    "ones = np.array([1,2,3,4,5,6,7,8,9]).reshape((3,3))\n",
    "vec_h = np.ones(3)*2\n",
    "vec_w = np.ones((3,1))*2\n",
    "\n",
    "print(ones)\n",
    "print(vec_h)\n",
    "print(vec_w)\n",
    "print(ones @ vec_h)\n",
    "print(ones @ vec_w)"
   ]
  },
  {
   "cell_type": "code",
   "execution_count": 36,
   "metadata": {},
   "outputs": [
    {
     "name": "stdout",
     "output_type": "stream",
     "text": [
      "cuda:0\n",
      "tensor([[1, 2, 3],\n",
      "        [4, 5, 6],\n",
      "        [7, 8, 9]], device='cuda:0')\n",
      "tensor([2, 2, 2, 0])\n"
     ]
    }
   ],
   "source": [
    "import torch\n",
    "\n",
    "t1 = torch.tensor([1,2,3,4,5,6,7,8,9]).reshape((3,3))\n",
    "t2 = torch.tensor([2,2,2])#.unsqueeze(1)\n",
    "\n",
    "# print(t1 * t2)\n",
    "torch.mul(t1, t2)\n",
    "\n",
    "t1_gpu = t1.to(\"cuda\")\n",
    "print(t1_gpu.device)\n",
    "t1_d = t1_gpu.detach()\n",
    "print(t1_d)\n",
    "var = torch.nn.functional.pad(t2, (0, 1),mode=\"constant\", value=0)\n",
    "print(var)"
   ]
  },
  {
   "cell_type": "code",
   "execution_count": 30,
   "metadata": {},
   "outputs": [
    {
     "data": {
      "text/plain": [
       "['Aliengo', 'Mini_Cheetah', 'Xiaotian', 'Anymal', 'A1']"
      ]
     },
     "execution_count": 30,
     "metadata": {},
     "output_type": "execute_result"
    }
   ],
   "source": [
    "import sys\n",
    "sys.path.append(\"..\")\n",
    "from MPC_Controller.common.Quadruped import RobotType\n",
    "[name.title() for name in RobotType.__members__.keys()]\n",
    "# print(RobotType.name) "
   ]
  },
  {
   "cell_type": "code",
   "execution_count": 2,
   "metadata": {},
   "outputs": [
    {
     "data": {
      "text/plain": [
       "<isaacgym._bindings.linux-x86_64.gym_37.Vec3 at 0x7f091702cfb0>"
      ]
     },
     "execution_count": 2,
     "metadata": {},
     "output_type": "execute_result"
    }
   ],
   "source": [
    "from isaacgym import gymapi\n",
    "\n",
    "gymapi.Vec3(*[1,2,3])"
   ]
  },
  {
   "cell_type": "code",
   "execution_count": 17,
   "metadata": {},
   "outputs": [
    {
     "name": "stdout",
     "output_type": "stream",
     "text": [
      "[0.5, 0.0, 1.0, 0.0]\n",
      "[0.44716157205240176, 0.0, 0.8943231441048035, 0.0]\n",
      "[[-1.  0. -1.]\n",
      " [ 0.  1.  0.]\n",
      " [ 1.  0. -1.]]\n",
      "[[-1.  0.  1.]\n",
      " [ 0.  1.  0.]\n",
      " [-1.  0. -1.]]\n",
      "[-0.5, 0.0, 1.0, 0.0]\n",
      "1.194\n"
     ]
    }
   ],
   "source": [
    "import sys\n",
    "sys.path.append(\"..\")\n",
    "from MPC_Controller.utils import *\n",
    "from MPC_Controller.math_utils.orientation_tools import *\n",
    "q = Quaternion(0.5,0,1,0)\n",
    "\n",
    "print(q)\n",
    "print(q.unit())\n",
    "# print(q.conjugate())\n",
    "# print(q.inverse())\n",
    "\n",
    "test_rot = quat_to_rot(q)\n",
    "print(test_rot)\n",
    "print(test_rot.T)\n",
    "print(rot_to_quat(test_rot.T))\n",
    "\n",
    "q2 = Quaternion(1,2,3,4)\n",
    "print(quat_product(q2.unit(), q.unit())._norm)"
   ]
  }
 ],
 "metadata": {
  "interpreter": {
   "hash": "477f429111f5082c327f2da949347f5c5f0d7f24f20a8925447777d056c162e2"
  },
  "kernelspec": {
   "display_name": "Python 3.7.10 64-bit ('rlgpu': conda)",
   "language": "python",
   "name": "python3"
  },
  "language_info": {
   "codemirror_mode": {
    "name": "ipython",
    "version": 3
   },
   "file_extension": ".py",
   "mimetype": "text/x-python",
   "name": "python",
   "nbconvert_exporter": "python",
   "pygments_lexer": "ipython3",
   "version": "3.7.12"
  },
  "orig_nbformat": 4
 },
 "nbformat": 4,
 "nbformat_minor": 2
}
