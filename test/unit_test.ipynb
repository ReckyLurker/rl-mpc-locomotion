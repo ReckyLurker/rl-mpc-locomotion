{
 "cells": [
  {
   "cell_type": "code",
   "execution_count": 18,
   "metadata": {},
   "outputs": [
    {
     "name": "stdout",
     "output_type": "stream",
     "text": [
      "[[1 2 3]\n",
      " [4 5 6]\n",
      " [7 8 9]\n",
      " [1 2 3]\n",
      " [4 5 6]\n",
      " [7 8 9]\n",
      " [1 2 3]\n",
      " [4 5 6]\n",
      " [7 8 9]]\n"
     ]
    }
   ],
   "source": [
    "import numpy as np\n",
    "a = np.array([[1,2,3],[4,5,6],[7,8,9]])\n",
    "# a[0,1]\n",
    "p = [0.0 for _ in range(3)]\n",
    "print(np.tile(a,(3,1)))"
   ]
  },
  {
   "cell_type": "code",
   "execution_count": 3,
   "metadata": {},
   "outputs": [
    {
     "name": "stdout",
     "output_type": "stream",
     "text": [
      "J:\n",
      " [[ 0.     0.404  0.195]\n",
      " [ 0.404 -0.    -0.   ]\n",
      " [-0.066  0.     0.   ]]\n",
      "p:\n",
      " [[ 0.   ]\n",
      " [-0.066]\n",
      " [-0.404]]\n"
     ]
    }
   ],
   "source": [
    "import numpy as np\n",
    "import sys\n",
    "sys.path.append(\"..\")\n",
    "from MPC_Controller.common.Quadruped import Quadruped, RobotType\n",
    "from MPC_Controller.common.LegController import computeLegJacobianAndPosition\n",
    "\n",
    "quad = Quadruped(RobotType.ALIENGO)\n",
    "q = np.zeros((3,1), dtype=np.float32)\n",
    "J, p = computeLegJacobianAndPosition(quad, q, 2)\n",
    "\n",
    "print(\"J:\\n\",J)\n",
    "print(\"p:\\n\",p)"
   ]
  },
  {
   "cell_type": "code",
   "execution_count": 1,
   "metadata": {},
   "outputs": [
    {
     "name": "stdout",
     "output_type": "stream",
     "text": [
      "[[1. 1. 1. ... 1. 1. 1.]\n",
      " [1. 1. 1. ... 1. 1. 1.]\n",
      " [1. 1. 1. ... 1. 1. 1.]\n",
      " ...\n",
      " [1. 1. 1. ... 1. 1. 1.]\n",
      " [1. 1. 1. ... 1. 1. 1.]\n",
      " [1. 1. 1. ... 1. 1. 1.]]\n",
      "[0. 0. 0. 0. 0. 0. 0. 0. 0. 0. 0. 0.]\n"
     ]
    }
   ],
   "source": [
    "import numpy as np\n",
    "a = np.zeros((13*10,13))\n",
    "print(np.exp(a))\n",
    "print(np.zeros(12))"
   ]
  },
  {
   "cell_type": "code",
   "execution_count": 15,
   "metadata": {},
   "outputs": [
    {
     "name": "stdout",
     "output_type": "stream",
     "text": [
      "4.0\n"
     ]
    }
   ],
   "source": [
    "import numpy as np\n",
    "import quaternion\n",
    "q = np.quaternion(1,2,3,4)\n",
    "print(q.z)"
   ]
  },
  {
   "cell_type": "code",
   "execution_count": 1,
   "metadata": {},
   "outputs": [
    {
     "data": {
      "text/plain": [
       "array([[0., 0., 0.],\n",
       "       [0., 0., 0.],\n",
       "       [0., 0., 0.]])"
      ]
     },
     "execution_count": 1,
     "metadata": {},
     "output_type": "execute_result"
    }
   ],
   "source": [
    "import numpy as np\n",
    "\n",
    "def test(hhhh:np.ndarray):\n",
    "    return hhhh\n",
    "\n",
    "test(np.zeros((3,3)))"
   ]
  },
  {
   "cell_type": "code",
   "execution_count": 1,
   "metadata": {},
   "outputs": [
    {
     "name": "stdout",
     "output_type": "stream",
     "text": [
      "<FSM_States.ControlFSMData.ControlFSMData object at 0x7fa8ec557250>\n"
     ]
    }
   ],
   "source": [
    "from MPC_Controller.FSM_States.ControlFSMData import ControlFSMData\n",
    "print(ControlFSMData())"
   ]
  },
  {
   "cell_type": "code",
   "execution_count": 2,
   "metadata": {},
   "outputs": [
    {
     "name": "stdout",
     "output_type": "stream",
     "text": [
      "0.25\n"
     ]
    }
   ],
   "source": [
    "x = np.min([np.max([10, -0.25]), 0.25])\n",
    "print(x)"
   ]
  },
  {
   "cell_type": "code",
   "execution_count": 42,
   "metadata": {},
   "outputs": [
    {
     "name": "stdout",
     "output_type": "stream",
     "text": [
      "0.0\n",
      "4\n"
     ]
    }
   ],
   "source": [
    "import numpy as np\n",
    "from time import time\n",
    "a = np.zeros((3,1), dtype=np.float32)\n",
    "b = np.array([3.0,4,5]).reshape((3,1))\n",
    "\n",
    "t = time()\n",
    "a = b.copy()\n",
    "# np.copyto(a, b, casting=\"same_kind\")\n",
    "\n",
    "print(time()-t)\n",
    "a[0] = 0\n",
    "print(b)"
   ]
  },
  {
   "cell_type": "code",
   "execution_count": 39,
   "metadata": {},
   "outputs": [
    {
     "name": "stdout",
     "output_type": "stream",
     "text": [
      "[1, 2, 3]\n"
     ]
    }
   ],
   "source": [
    "a = [0 for _ in range(4)]\n",
    "b = [1, 2, 3]\n",
    "a[:] = b\n",
    "\n",
    "print(a)"
   ]
  },
  {
   "cell_type": "code",
   "execution_count": 2,
   "metadata": {},
   "outputs": [
    {
     "name": "stdout",
     "output_type": "stream",
     "text": [
      "[ 1.00e+00]\n",
      "[ 2.00e+00]\n",
      "[ 3.00e+00]\n",
      "\n"
     ]
    }
   ],
   "source": [
    "from cvxopt import matrix\n",
    "import numpy as np\n",
    "q = np.array([1,2,3.0], dtype=np.float64).reshape(3,1)\n",
    "print(matrix(q))"
   ]
  },
  {
   "cell_type": "code",
   "execution_count": 24,
   "metadata": {},
   "outputs": [
    {
     "name": "stdout",
     "output_type": "stream",
     "text": [
      "140126302247264\n",
      "140126801388000\n",
      "140126302247264\n",
      "140126801388000\n",
      "True\n"
     ]
    }
   ],
   "source": [
    "list1 = [3, 4, 5, 8]\n",
    "list2 = [5, 6, 7]\n",
    "\n",
    "print(id(list1))\n",
    "print(id(list2))\n",
    "\n",
    "list1[:] = list2\n",
    "# list1 = list2[:]\n",
    "\n",
    "\n",
    "list1[0] = 0\n",
    "print(id(list1))\n",
    "print(id(list2))\n",
    "print(list1[1] is list2[1])"
   ]
  },
  {
   "cell_type": "code",
   "execution_count": 5,
   "metadata": {},
   "outputs": [
    {
     "name": "stdout",
     "output_type": "stream",
     "text": [
      "<class 'numpy.ndarray'>\n"
     ]
    }
   ],
   "source": [
    "import numpy as np\n",
    "import quaternion\n",
    "q = np.quaternion(1,0,0,0)\n",
    "print(type(quaternion.as_euler_angles(q)))"
   ]
  }
 ],
 "metadata": {
  "interpreter": {
   "hash": "477f429111f5082c327f2da949347f5c5f0d7f24f20a8925447777d056c162e2"
  },
  "kernelspec": {
   "display_name": "Python 3.7.10 64-bit ('rlgpu': conda)",
   "language": "python",
   "name": "python3"
  },
  "language_info": {
   "codemirror_mode": {
    "name": "ipython",
    "version": 3
   },
   "file_extension": ".py",
   "mimetype": "text/x-python",
   "name": "python",
   "nbconvert_exporter": "python",
   "pygments_lexer": "ipython3",
   "version": "3.7.10"
  },
  "orig_nbformat": 4
 },
 "nbformat": 4,
 "nbformat_minor": 2
}
